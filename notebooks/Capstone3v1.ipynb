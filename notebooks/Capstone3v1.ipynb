{
 "cells": [
  {
   "cell_type": "markdown",
   "id": "ee21ce9e",
   "metadata": {},
   "source": [
    "# Capstone 3\n",
    "## Full Project"
   ]
  },
  {
   "cell_type": "markdown",
   "id": "71475276",
   "metadata": {},
   "source": [
    "Steps:\n",
    "- created a new folder called Capstone3\n",
    "- copied the project structure into that folder\n",
    "- created a new notebook called Capstone3v1 in the notebooks section\n",
    "- downloaded dataset from: https://www.kaggle.com/datasets/jihyeseo/online-retail-data-set-from-uci-ml-repo\n",
    "- unzipped it and placed it in the data section under external\n",
    "- started by importing packages [Imports](#imports)\n",
    "- created important info section [Important Info](#importantinfo)\n",
    "- loaded the data into variable df\n",
    "- looked at head\n",
    "- looked at shape\n",
    "- looked at info"
   ]
  },
  {
   "cell_type": "markdown",
   "id": "45074070",
   "metadata": {},
   "source": [
    "Imports<a id='imports'></a>"
   ]
  },
  {
   "cell_type": "code",
   "execution_count": 1,
   "id": "abf2a408",
   "metadata": {},
   "outputs": [],
   "source": [
    "#import packages \n",
    "import pandas as pd"
   ]
  },
  {
   "cell_type": "markdown",
   "id": "0348d260",
   "metadata": {},
   "source": [
    "Important Info<a id='importantinfo'></a>"
   ]
  },
  {
   "cell_type": "code",
   "execution_count": 2,
   "id": "8314c8e7",
   "metadata": {},
   "outputs": [],
   "source": [
    "#Index Link: [Important Info](#importantinfo)\n",
    "#Section Link <a id='imports'></a>\n",
    "downloaded_dataset='../data/external/Online Retail.xlsx'\n",
    "df=pd.read_excel(downloaded_dataset)"
   ]
  },
  {
   "cell_type": "code",
   "execution_count": 3,
   "id": "ccb7691c",
   "metadata": {},
   "outputs": [
    {
     "data": {
      "text/html": [
       "<div>\n",
       "<style scoped>\n",
       "    .dataframe tbody tr th:only-of-type {\n",
       "        vertical-align: middle;\n",
       "    }\n",
       "\n",
       "    .dataframe tbody tr th {\n",
       "        vertical-align: top;\n",
       "    }\n",
       "\n",
       "    .dataframe thead th {\n",
       "        text-align: right;\n",
       "    }\n",
       "</style>\n",
       "<table border=\"1\" class=\"dataframe\">\n",
       "  <thead>\n",
       "    <tr style=\"text-align: right;\">\n",
       "      <th></th>\n",
       "      <th>InvoiceNo</th>\n",
       "      <th>StockCode</th>\n",
       "      <th>Description</th>\n",
       "      <th>Quantity</th>\n",
       "      <th>InvoiceDate</th>\n",
       "      <th>UnitPrice</th>\n",
       "      <th>CustomerID</th>\n",
       "      <th>Country</th>\n",
       "    </tr>\n",
       "  </thead>\n",
       "  <tbody>\n",
       "    <tr>\n",
       "      <th>297488</th>\n",
       "      <td>562950</td>\n",
       "      <td>22752</td>\n",
       "      <td>SET 7 BABUSHKA NESTING BOXES</td>\n",
       "      <td>2</td>\n",
       "      <td>2011-08-11 09:56:00</td>\n",
       "      <td>8.50</td>\n",
       "      <td>15608.0</td>\n",
       "      <td>United Kingdom</td>\n",
       "    </tr>\n",
       "    <tr>\n",
       "      <th>268963</th>\n",
       "      <td>560434</td>\n",
       "      <td>23110</td>\n",
       "      <td>PARISIENNE KEY CABINET</td>\n",
       "      <td>1</td>\n",
       "      <td>2011-07-18 15:56:00</td>\n",
       "      <td>12.46</td>\n",
       "      <td>NaN</td>\n",
       "      <td>United Kingdom</td>\n",
       "    </tr>\n",
       "    <tr>\n",
       "      <th>382332</th>\n",
       "      <td>569898</td>\n",
       "      <td>90205C</td>\n",
       "      <td>LARGE CRYSTAL DIAMANTE HAIRSLIDE</td>\n",
       "      <td>1</td>\n",
       "      <td>2011-10-06 16:08:00</td>\n",
       "      <td>1.65</td>\n",
       "      <td>NaN</td>\n",
       "      <td>United Kingdom</td>\n",
       "    </tr>\n",
       "    <tr>\n",
       "      <th>232449</th>\n",
       "      <td>557319</td>\n",
       "      <td>22055</td>\n",
       "      <td>MINI CAKE STAND  HANGING STRAWBERY</td>\n",
       "      <td>8</td>\n",
       "      <td>2011-06-20 08:23:00</td>\n",
       "      <td>1.65</td>\n",
       "      <td>15076.0</td>\n",
       "      <td>United Kingdom</td>\n",
       "    </tr>\n",
       "    <tr>\n",
       "      <th>79613</th>\n",
       "      <td>542998</td>\n",
       "      <td>82580</td>\n",
       "      <td>BATHROOM METAL SIGN</td>\n",
       "      <td>2</td>\n",
       "      <td>2011-02-02 12:16:00</td>\n",
       "      <td>1.25</td>\n",
       "      <td>NaN</td>\n",
       "      <td>United Kingdom</td>\n",
       "    </tr>\n",
       "    <tr>\n",
       "      <th>302648</th>\n",
       "      <td>563440</td>\n",
       "      <td>21642</td>\n",
       "      <td>ASSORTED TUTTI FRUTTI PEN</td>\n",
       "      <td>24</td>\n",
       "      <td>2011-08-16 13:12:00</td>\n",
       "      <td>0.29</td>\n",
       "      <td>13189.0</td>\n",
       "      <td>United Kingdom</td>\n",
       "    </tr>\n",
       "    <tr>\n",
       "      <th>362861</th>\n",
       "      <td>568527</td>\n",
       "      <td>20726</td>\n",
       "      <td>LUNCH BAG WOODLAND</td>\n",
       "      <td>20</td>\n",
       "      <td>2011-09-27 13:21:00</td>\n",
       "      <td>1.65</td>\n",
       "      <td>13178.0</td>\n",
       "      <td>United Kingdom</td>\n",
       "    </tr>\n",
       "  </tbody>\n",
       "</table>\n",
       "</div>"
      ],
      "text/plain": [
       "       InvoiceNo StockCode                         Description  Quantity  \\\n",
       "297488    562950     22752        SET 7 BABUSHKA NESTING BOXES         2   \n",
       "268963    560434     23110             PARISIENNE KEY CABINET          1   \n",
       "382332    569898    90205C    LARGE CRYSTAL DIAMANTE HAIRSLIDE         1   \n",
       "232449    557319     22055  MINI CAKE STAND  HANGING STRAWBERY         8   \n",
       "79613     542998     82580                 BATHROOM METAL SIGN         2   \n",
       "302648    563440     21642           ASSORTED TUTTI FRUTTI PEN        24   \n",
       "362861    568527     20726                  LUNCH BAG WOODLAND        20   \n",
       "\n",
       "               InvoiceDate  UnitPrice  CustomerID         Country  \n",
       "297488 2011-08-11 09:56:00       8.50     15608.0  United Kingdom  \n",
       "268963 2011-07-18 15:56:00      12.46         NaN  United Kingdom  \n",
       "382332 2011-10-06 16:08:00       1.65         NaN  United Kingdom  \n",
       "232449 2011-06-20 08:23:00       1.65     15076.0  United Kingdom  \n",
       "79613  2011-02-02 12:16:00       1.25         NaN  United Kingdom  \n",
       "302648 2011-08-16 13:12:00       0.29     13189.0  United Kingdom  \n",
       "362861 2011-09-27 13:21:00       1.65     13178.0  United Kingdom  "
      ]
     },
     "execution_count": 3,
     "metadata": {},
     "output_type": "execute_result"
    }
   ],
   "source": [
    "df.sample(7)"
   ]
  },
  {
   "cell_type": "code",
   "execution_count": 4,
   "id": "931c96f1",
   "metadata": {},
   "outputs": [
    {
     "data": {
      "text/plain": [
       "(541909, 8)"
      ]
     },
     "execution_count": 4,
     "metadata": {},
     "output_type": "execute_result"
    }
   ],
   "source": [
    "df.shape"
   ]
  },
  {
   "cell_type": "code",
   "execution_count": 6,
   "id": "7c0b0dee",
   "metadata": {},
   "outputs": [
    {
     "name": "stdout",
     "output_type": "stream",
     "text": [
      "<class 'pandas.core.frame.DataFrame'>\n",
      "RangeIndex: 541909 entries, 0 to 541908\n",
      "Data columns (total 8 columns):\n",
      " #   Column       Non-Null Count   Dtype         \n",
      "---  ------       --------------   -----         \n",
      " 0   InvoiceNo    541909 non-null  object        \n",
      " 1   StockCode    541909 non-null  object        \n",
      " 2   Description  540455 non-null  object        \n",
      " 3   Quantity     541909 non-null  int64         \n",
      " 4   InvoiceDate  541909 non-null  datetime64[ns]\n",
      " 5   UnitPrice    541909 non-null  float64       \n",
      " 6   CustomerID   406829 non-null  float64       \n",
      " 7   Country      541909 non-null  object        \n",
      "dtypes: datetime64[ns](1), float64(2), int64(1), object(4)\n",
      "memory usage: 33.1+ MB\n"
     ]
    }
   ],
   "source": [
    "df.info()"
   ]
  },
  {
   "cell_type": "code",
   "execution_count": null,
   "id": "c2e9dbdd",
   "metadata": {},
   "outputs": [],
   "source": []
  }
 ],
 "metadata": {
  "kernelspec": {
   "display_name": "Python 3 (ipykernel)",
   "language": "python",
   "name": "python3"
  },
  "language_info": {
   "codemirror_mode": {
    "name": "ipython",
    "version": 3
   },
   "file_extension": ".py",
   "mimetype": "text/x-python",
   "name": "python",
   "nbconvert_exporter": "python",
   "pygments_lexer": "ipython3",
   "version": "3.9.12"
  }
 },
 "nbformat": 4,
 "nbformat_minor": 5
}
