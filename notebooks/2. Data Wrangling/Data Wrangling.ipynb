{
 "cells": [
  {
   "cell_type": "markdown",
   "id": "ee21ce9e",
   "metadata": {},
   "source": [
    "# Capstone 3 \n",
    "## Data Wrangling"
   ]
  },
  {
   "cell_type": "markdown",
   "id": "45074070",
   "metadata": {},
   "source": [
    "First we import"
   ]
  },
  {
   "cell_type": "code",
   "execution_count": 1,
   "id": "abf2a408",
   "metadata": {},
   "outputs": [],
   "source": [
    "import pandas as pd\n",
    "import numpy as np"
   ]
  },
  {
   "cell_type": "markdown",
   "id": "0348d260",
   "metadata": {},
   "source": [
    "Load Dataset"
   ]
  },
  {
   "cell_type": "code",
   "execution_count": 2,
   "id": "8314c8e7",
   "metadata": {},
   "outputs": [],
   "source": [
    "downloaded_dataset='../data/external/Online Retail.xlsx'\n",
    "df=pd.read_excel(downloaded_dataset)"
   ]
  },
  {
   "cell_type": "markdown",
   "id": "7635ee0e",
   "metadata": {},
   "source": [
    "Examine the data"
   ]
  },
  {
   "cell_type": "code",
   "execution_count": 3,
   "id": "ccb7691c",
   "metadata": {
    "scrolled": false
   },
   "outputs": [
    {
     "data": {
      "text/html": [
       "<div>\n",
       "<style scoped>\n",
       "    .dataframe tbody tr th:only-of-type {\n",
       "        vertical-align: middle;\n",
       "    }\n",
       "\n",
       "    .dataframe tbody tr th {\n",
       "        vertical-align: top;\n",
       "    }\n",
       "\n",
       "    .dataframe thead th {\n",
       "        text-align: right;\n",
       "    }\n",
       "</style>\n",
       "<table border=\"1\" class=\"dataframe\">\n",
       "  <thead>\n",
       "    <tr style=\"text-align: right;\">\n",
       "      <th></th>\n",
       "      <th>InvoiceNo</th>\n",
       "      <th>StockCode</th>\n",
       "      <th>Description</th>\n",
       "      <th>Quantity</th>\n",
       "      <th>InvoiceDate</th>\n",
       "      <th>UnitPrice</th>\n",
       "      <th>CustomerID</th>\n",
       "      <th>Country</th>\n",
       "    </tr>\n",
       "  </thead>\n",
       "  <tbody>\n",
       "    <tr>\n",
       "      <th>279101</th>\n",
       "      <td>561236</td>\n",
       "      <td>23300</td>\n",
       "      <td>GARDENERS KNEELING PAD CUP OF TEA</td>\n",
       "      <td>24</td>\n",
       "      <td>2011-07-26 10:27:00</td>\n",
       "      <td>1.65</td>\n",
       "      <td>15159.0</td>\n",
       "      <td>United Kingdom</td>\n",
       "    </tr>\n",
       "    <tr>\n",
       "      <th>427023</th>\n",
       "      <td>573373</td>\n",
       "      <td>21975</td>\n",
       "      <td>PACK OF 60 DINOSAUR CAKE CASES</td>\n",
       "      <td>2</td>\n",
       "      <td>2011-10-30 13:37:00</td>\n",
       "      <td>0.55</td>\n",
       "      <td>14684.0</td>\n",
       "      <td>United Kingdom</td>\n",
       "    </tr>\n",
       "    <tr>\n",
       "      <th>160510</th>\n",
       "      <td>550459</td>\n",
       "      <td>17091A</td>\n",
       "      <td>LAVENDER INCENSE IN TIN</td>\n",
       "      <td>2</td>\n",
       "      <td>2011-04-18 13:17:00</td>\n",
       "      <td>0.38</td>\n",
       "      <td>18116.0</td>\n",
       "      <td>United Kingdom</td>\n",
       "    </tr>\n",
       "    <tr>\n",
       "      <th>485933</th>\n",
       "      <td>577695</td>\n",
       "      <td>37489D</td>\n",
       "      <td>PINK/GREEN FLOWER DESIGN BIG MUG</td>\n",
       "      <td>4</td>\n",
       "      <td>2011-11-21 11:55:00</td>\n",
       "      <td>0.39</td>\n",
       "      <td>15645.0</td>\n",
       "      <td>United Kingdom</td>\n",
       "    </tr>\n",
       "    <tr>\n",
       "      <th>356312</th>\n",
       "      <td>568049</td>\n",
       "      <td>22602</td>\n",
       "      <td>RETROSPOT WOODEN HEART DECORATION</td>\n",
       "      <td>8</td>\n",
       "      <td>2011-09-23 12:38:00</td>\n",
       "      <td>0.85</td>\n",
       "      <td>17841.0</td>\n",
       "      <td>United Kingdom</td>\n",
       "    </tr>\n",
       "    <tr>\n",
       "      <th>317805</th>\n",
       "      <td>564818</td>\n",
       "      <td>21802</td>\n",
       "      <td>CHRISTMAS TREE HEART DECORATION</td>\n",
       "      <td>4</td>\n",
       "      <td>2011-08-30 12:10:00</td>\n",
       "      <td>0.42</td>\n",
       "      <td>NaN</td>\n",
       "      <td>United Kingdom</td>\n",
       "    </tr>\n",
       "    <tr>\n",
       "      <th>531819</th>\n",
       "      <td>C580971</td>\n",
       "      <td>22313</td>\n",
       "      <td>OFFICE MUG WARMER PINK</td>\n",
       "      <td>-250</td>\n",
       "      <td>2011-12-06 15:04:00</td>\n",
       "      <td>2.55</td>\n",
       "      <td>14298.0</td>\n",
       "      <td>United Kingdom</td>\n",
       "    </tr>\n",
       "  </tbody>\n",
       "</table>\n",
       "</div>"
      ],
      "text/plain": [
       "       InvoiceNo StockCode                         Description  Quantity  \\\n",
       "279101    561236     23300  GARDENERS KNEELING PAD CUP OF TEA         24   \n",
       "427023    573373     21975      PACK OF 60 DINOSAUR CAKE CASES         2   \n",
       "160510    550459    17091A             LAVENDER INCENSE IN TIN         2   \n",
       "485933    577695    37489D    PINK/GREEN FLOWER DESIGN BIG MUG         4   \n",
       "356312    568049     22602   RETROSPOT WOODEN HEART DECORATION         8   \n",
       "317805    564818     21802     CHRISTMAS TREE HEART DECORATION         4   \n",
       "531819   C580971     22313              OFFICE MUG WARMER PINK      -250   \n",
       "\n",
       "               InvoiceDate  UnitPrice  CustomerID         Country  \n",
       "279101 2011-07-26 10:27:00       1.65     15159.0  United Kingdom  \n",
       "427023 2011-10-30 13:37:00       0.55     14684.0  United Kingdom  \n",
       "160510 2011-04-18 13:17:00       0.38     18116.0  United Kingdom  \n",
       "485933 2011-11-21 11:55:00       0.39     15645.0  United Kingdom  \n",
       "356312 2011-09-23 12:38:00       0.85     17841.0  United Kingdom  \n",
       "317805 2011-08-30 12:10:00       0.42         NaN  United Kingdom  \n",
       "531819 2011-12-06 15:04:00       2.55     14298.0  United Kingdom  "
      ]
     },
     "execution_count": 3,
     "metadata": {},
     "output_type": "execute_result"
    }
   ],
   "source": [
    "df.sample(7)"
   ]
  },
  {
   "cell_type": "markdown",
   "id": "142c3682",
   "metadata": {},
   "source": [
    "I like to use sample instead of head() to give me a random sample"
   ]
  },
  {
   "cell_type": "code",
   "execution_count": 7,
   "id": "2cdb34ba",
   "metadata": {},
   "outputs": [],
   "source": [
    "df['Total']=df.Quantity*df.UnitPrice"
   ]
  },
  {
   "cell_type": "code",
   "execution_count": 8,
   "id": "56d7bf9f",
   "metadata": {},
   "outputs": [
    {
     "data": {
      "text/plain": [
       "(541909, 9)"
      ]
     },
     "execution_count": 8,
     "metadata": {},
     "output_type": "execute_result"
    }
   ],
   "source": [
    "df.shape"
   ]
  },
  {
   "cell_type": "markdown",
   "id": "539745d3",
   "metadata": {},
   "source": [
    "Not too many features but lots of values"
   ]
  },
  {
   "cell_type": "code",
   "execution_count": 9,
   "id": "7c0b0dee",
   "metadata": {
    "scrolled": false
   },
   "outputs": [
    {
     "name": "stdout",
     "output_type": "stream",
     "text": [
      "<class 'pandas.core.frame.DataFrame'>\n",
      "RangeIndex: 541909 entries, 0 to 541908\n",
      "Data columns (total 9 columns):\n",
      " #   Column       Non-Null Count   Dtype         \n",
      "---  ------       --------------   -----         \n",
      " 0   InvoiceNo    541909 non-null  object        \n",
      " 1   StockCode    541909 non-null  object        \n",
      " 2   Description  540455 non-null  object        \n",
      " 3   Quantity     541909 non-null  int64         \n",
      " 4   InvoiceDate  541909 non-null  datetime64[ns]\n",
      " 5   UnitPrice    541909 non-null  float64       \n",
      " 6   CustomerID   406829 non-null  float64       \n",
      " 7   Country      541909 non-null  object        \n",
      " 8   Total        541909 non-null  float64       \n",
      "dtypes: datetime64[ns](1), float64(3), int64(1), object(4)\n",
      "memory usage: 37.2+ MB\n"
     ]
    }
   ],
   "source": [
    "df.info()"
   ]
  },
  {
   "cell_type": "markdown",
   "id": "67147013",
   "metadata": {},
   "source": [
    "The types look ok at the moment, it is strange that CustomerID is a float instead of an object"
   ]
  },
  {
   "cell_type": "markdown",
   "id": "779f45ac",
   "metadata": {},
   "source": [
    "Let's look for duplicates"
   ]
  },
  {
   "cell_type": "code",
   "execution_count": 10,
   "id": "57a41c8c",
   "metadata": {
    "scrolled": true
   },
   "outputs": [
    {
     "data": {
      "text/plain": [
       "5268"
      ]
     },
     "execution_count": 10,
     "metadata": {},
     "output_type": "execute_result"
    }
   ],
   "source": [
    "df.duplicated().sum()"
   ]
  },
  {
   "cell_type": "code",
   "execution_count": 11,
   "id": "76b0f239",
   "metadata": {},
   "outputs": [
    {
     "data": {
      "text/plain": [
       "(536641, 9)"
      ]
     },
     "execution_count": 11,
     "metadata": {},
     "output_type": "execute_result"
    }
   ],
   "source": [
    "df = df[~df.duplicated()]\n",
    "df.shape"
   ]
  },
  {
   "cell_type": "markdown",
   "id": "187303df",
   "metadata": {},
   "source": [
    "Let's look for missing values"
   ]
  },
  {
   "cell_type": "code",
   "execution_count": 12,
   "id": "ae70cc9f",
   "metadata": {
    "scrolled": false
   },
   "outputs": [
    {
     "data": {
      "text/plain": [
       "InvoiceNo       0.000000\n",
       "StockCode       0.000000\n",
       "Description     0.270945\n",
       "Quantity        0.000000\n",
       "InvoiceDate     0.000000\n",
       "UnitPrice       0.000000\n",
       "CustomerID     25.163377\n",
       "Country         0.000000\n",
       "Total           0.000000\n",
       "dtype: float64"
      ]
     },
     "execution_count": 12,
     "metadata": {},
     "output_type": "execute_result"
    }
   ],
   "source": [
    "df.isnull().sum()*100/len(df)"
   ]
  },
  {
   "cell_type": "markdown",
   "id": "36ec4c8c",
   "metadata": {},
   "source": [
    "Looks like we are missing 25% of the CustomerID"
   ]
  },
  {
   "cell_type": "code",
   "execution_count": 13,
   "id": "99067bcb",
   "metadata": {},
   "outputs": [],
   "source": [
    "df['CustomerID'].fillna(00000, inplace=True)"
   ]
  },
  {
   "cell_type": "code",
   "execution_count": 14,
   "id": "0a3df39d",
   "metadata": {
    "scrolled": true
   },
   "outputs": [
    {
     "data": {
      "text/plain": [
       "InvoiceNo         0\n",
       "StockCode         0\n",
       "Description    1454\n",
       "Quantity          0\n",
       "InvoiceDate       0\n",
       "UnitPrice         0\n",
       "CustomerID        0\n",
       "Country           0\n",
       "Total             0\n",
       "dtype: int64"
      ]
     },
     "execution_count": 14,
     "metadata": {},
     "output_type": "execute_result"
    }
   ],
   "source": [
    "df.isnull().sum()"
   ]
  },
  {
   "cell_type": "code",
   "execution_count": 15,
   "id": "e6c6fad4",
   "metadata": {
    "scrolled": true
   },
   "outputs": [
    {
     "data": {
      "text/html": [
       "<div>\n",
       "<style scoped>\n",
       "    .dataframe tbody tr th:only-of-type {\n",
       "        vertical-align: middle;\n",
       "    }\n",
       "\n",
       "    .dataframe tbody tr th {\n",
       "        vertical-align: top;\n",
       "    }\n",
       "\n",
       "    .dataframe thead th {\n",
       "        text-align: right;\n",
       "    }\n",
       "</style>\n",
       "<table border=\"1\" class=\"dataframe\">\n",
       "  <thead>\n",
       "    <tr style=\"text-align: right;\">\n",
       "      <th></th>\n",
       "      <th>Quantity</th>\n",
       "      <th>UnitPrice</th>\n",
       "      <th>CustomerID</th>\n",
       "      <th>Total</th>\n",
       "    </tr>\n",
       "  </thead>\n",
       "  <tbody>\n",
       "    <tr>\n",
       "      <th>count</th>\n",
       "      <td>536641.000000</td>\n",
       "      <td>536641.000000</td>\n",
       "      <td>536641.000000</td>\n",
       "      <td>536641.000000</td>\n",
       "    </tr>\n",
       "    <tr>\n",
       "      <th>mean</th>\n",
       "      <td>9.620029</td>\n",
       "      <td>4.632656</td>\n",
       "      <td>11435.904653</td>\n",
       "      <td>18.123861</td>\n",
       "    </tr>\n",
       "    <tr>\n",
       "      <th>std</th>\n",
       "      <td>219.130156</td>\n",
       "      <td>97.233118</td>\n",
       "      <td>6795.044250</td>\n",
       "      <td>380.656263</td>\n",
       "    </tr>\n",
       "    <tr>\n",
       "      <th>min</th>\n",
       "      <td>-80995.000000</td>\n",
       "      <td>-11062.060000</td>\n",
       "      <td>0.000000</td>\n",
       "      <td>-168469.600000</td>\n",
       "    </tr>\n",
       "    <tr>\n",
       "      <th>25%</th>\n",
       "      <td>1.000000</td>\n",
       "      <td>1.250000</td>\n",
       "      <td>0.000000</td>\n",
       "      <td>3.750000</td>\n",
       "    </tr>\n",
       "    <tr>\n",
       "      <th>50%</th>\n",
       "      <td>3.000000</td>\n",
       "      <td>2.080000</td>\n",
       "      <td>14336.000000</td>\n",
       "      <td>9.870000</td>\n",
       "    </tr>\n",
       "    <tr>\n",
       "      <th>75%</th>\n",
       "      <td>10.000000</td>\n",
       "      <td>4.130000</td>\n",
       "      <td>16241.000000</td>\n",
       "      <td>17.400000</td>\n",
       "    </tr>\n",
       "    <tr>\n",
       "      <th>max</th>\n",
       "      <td>80995.000000</td>\n",
       "      <td>38970.000000</td>\n",
       "      <td>18287.000000</td>\n",
       "      <td>168469.600000</td>\n",
       "    </tr>\n",
       "  </tbody>\n",
       "</table>\n",
       "</div>"
      ],
      "text/plain": [
       "            Quantity      UnitPrice     CustomerID          Total\n",
       "count  536641.000000  536641.000000  536641.000000  536641.000000\n",
       "mean        9.620029       4.632656   11435.904653      18.123861\n",
       "std       219.130156      97.233118    6795.044250     380.656263\n",
       "min    -80995.000000  -11062.060000       0.000000 -168469.600000\n",
       "25%         1.000000       1.250000       0.000000       3.750000\n",
       "50%         3.000000       2.080000   14336.000000       9.870000\n",
       "75%        10.000000       4.130000   16241.000000      17.400000\n",
       "max     80995.000000   38970.000000   18287.000000  168469.600000"
      ]
     },
     "execution_count": 15,
     "metadata": {},
     "output_type": "execute_result"
    }
   ],
   "source": [
    "df.describe()"
   ]
  },
  {
   "cell_type": "markdown",
   "id": "5e692501",
   "metadata": {},
   "source": [
    "negative minimum? why are there negative quantities and prices? maybe returns?"
   ]
  },
  {
   "cell_type": "code",
   "execution_count": 16,
   "id": "7f64778d",
   "metadata": {},
   "outputs": [],
   "source": [
    "df=df[df['Quantity']>0]"
   ]
  },
  {
   "cell_type": "code",
   "execution_count": 17,
   "id": "17b1de0d",
   "metadata": {},
   "outputs": [
    {
     "data": {
      "text/html": [
       "<div>\n",
       "<style scoped>\n",
       "    .dataframe tbody tr th:only-of-type {\n",
       "        vertical-align: middle;\n",
       "    }\n",
       "\n",
       "    .dataframe tbody tr th {\n",
       "        vertical-align: top;\n",
       "    }\n",
       "\n",
       "    .dataframe thead th {\n",
       "        text-align: right;\n",
       "    }\n",
       "</style>\n",
       "<table border=\"1\" class=\"dataframe\">\n",
       "  <thead>\n",
       "    <tr style=\"text-align: right;\">\n",
       "      <th></th>\n",
       "      <th>Quantity</th>\n",
       "      <th>UnitPrice</th>\n",
       "      <th>CustomerID</th>\n",
       "      <th>Total</th>\n",
       "    </tr>\n",
       "  </thead>\n",
       "  <tbody>\n",
       "    <tr>\n",
       "      <th>count</th>\n",
       "      <td>526054.000000</td>\n",
       "      <td>526054.000000</td>\n",
       "      <td>526054.000000</td>\n",
       "      <td>526054.000000</td>\n",
       "    </tr>\n",
       "    <tr>\n",
       "      <th>mean</th>\n",
       "      <td>10.730874</td>\n",
       "      <td>3.871747</td>\n",
       "      <td>11413.244024</td>\n",
       "      <td>20.188016</td>\n",
       "    </tr>\n",
       "    <tr>\n",
       "      <th>std</th>\n",
       "      <td>157.591838</td>\n",
       "      <td>42.016560</td>\n",
       "      <td>6812.689104</td>\n",
       "      <td>272.250300</td>\n",
       "    </tr>\n",
       "    <tr>\n",
       "      <th>min</th>\n",
       "      <td>1.000000</td>\n",
       "      <td>-11062.060000</td>\n",
       "      <td>0.000000</td>\n",
       "      <td>-11062.060000</td>\n",
       "    </tr>\n",
       "    <tr>\n",
       "      <th>25%</th>\n",
       "      <td>1.000000</td>\n",
       "      <td>1.250000</td>\n",
       "      <td>0.000000</td>\n",
       "      <td>3.900000</td>\n",
       "    </tr>\n",
       "    <tr>\n",
       "      <th>50%</th>\n",
       "      <td>4.000000</td>\n",
       "      <td>2.080000</td>\n",
       "      <td>14334.000000</td>\n",
       "      <td>9.920000</td>\n",
       "    </tr>\n",
       "    <tr>\n",
       "      <th>75%</th>\n",
       "      <td>11.000000</td>\n",
       "      <td>4.130000</td>\n",
       "      <td>16242.000000</td>\n",
       "      <td>17.700000</td>\n",
       "    </tr>\n",
       "    <tr>\n",
       "      <th>max</th>\n",
       "      <td>80995.000000</td>\n",
       "      <td>13541.330000</td>\n",
       "      <td>18287.000000</td>\n",
       "      <td>168469.600000</td>\n",
       "    </tr>\n",
       "  </tbody>\n",
       "</table>\n",
       "</div>"
      ],
      "text/plain": [
       "            Quantity      UnitPrice     CustomerID          Total\n",
       "count  526054.000000  526054.000000  526054.000000  526054.000000\n",
       "mean       10.730874       3.871747   11413.244024      20.188016\n",
       "std       157.591838      42.016560    6812.689104     272.250300\n",
       "min         1.000000  -11062.060000       0.000000  -11062.060000\n",
       "25%         1.000000       1.250000       0.000000       3.900000\n",
       "50%         4.000000       2.080000   14334.000000       9.920000\n",
       "75%        11.000000       4.130000   16242.000000      17.700000\n",
       "max     80995.000000   13541.330000   18287.000000  168469.600000"
      ]
     },
     "execution_count": 17,
     "metadata": {},
     "output_type": "execute_result"
    }
   ],
   "source": [
    "df.describe()"
   ]
  },
  {
   "cell_type": "code",
   "execution_count": 18,
   "id": "665a2255",
   "metadata": {},
   "outputs": [],
   "source": [
    "df=df[df['UnitPrice']>0]"
   ]
  },
  {
   "cell_type": "code",
   "execution_count": 19,
   "id": "2b44c5d0",
   "metadata": {
    "scrolled": false
   },
   "outputs": [
    {
     "data": {
      "text/html": [
       "<div>\n",
       "<style scoped>\n",
       "    .dataframe tbody tr th:only-of-type {\n",
       "        vertical-align: middle;\n",
       "    }\n",
       "\n",
       "    .dataframe tbody tr th {\n",
       "        vertical-align: top;\n",
       "    }\n",
       "\n",
       "    .dataframe thead th {\n",
       "        text-align: right;\n",
       "    }\n",
       "</style>\n",
       "<table border=\"1\" class=\"dataframe\">\n",
       "  <thead>\n",
       "    <tr style=\"text-align: right;\">\n",
       "      <th></th>\n",
       "      <th>Quantity</th>\n",
       "      <th>UnitPrice</th>\n",
       "      <th>CustomerID</th>\n",
       "      <th>Total</th>\n",
       "    </tr>\n",
       "  </thead>\n",
       "  <tbody>\n",
       "    <tr>\n",
       "      <th>count</th>\n",
       "      <td>524878.000000</td>\n",
       "      <td>524878.000000</td>\n",
       "      <td>524878.000000</td>\n",
       "      <td>524878.000000</td>\n",
       "    </tr>\n",
       "    <tr>\n",
       "      <th>mean</th>\n",
       "      <td>10.616600</td>\n",
       "      <td>3.922573</td>\n",
       "      <td>11437.732164</td>\n",
       "      <td>20.275399</td>\n",
       "    </tr>\n",
       "    <tr>\n",
       "      <th>std</th>\n",
       "      <td>156.280031</td>\n",
       "      <td>36.093028</td>\n",
       "      <td>6799.513627</td>\n",
       "      <td>271.693566</td>\n",
       "    </tr>\n",
       "    <tr>\n",
       "      <th>min</th>\n",
       "      <td>1.000000</td>\n",
       "      <td>0.001000</td>\n",
       "      <td>0.000000</td>\n",
       "      <td>0.001000</td>\n",
       "    </tr>\n",
       "    <tr>\n",
       "      <th>25%</th>\n",
       "      <td>1.000000</td>\n",
       "      <td>1.250000</td>\n",
       "      <td>0.000000</td>\n",
       "      <td>3.900000</td>\n",
       "    </tr>\n",
       "    <tr>\n",
       "      <th>50%</th>\n",
       "      <td>4.000000</td>\n",
       "      <td>2.080000</td>\n",
       "      <td>14350.000000</td>\n",
       "      <td>9.920000</td>\n",
       "    </tr>\n",
       "    <tr>\n",
       "      <th>75%</th>\n",
       "      <td>11.000000</td>\n",
       "      <td>4.130000</td>\n",
       "      <td>16245.000000</td>\n",
       "      <td>17.700000</td>\n",
       "    </tr>\n",
       "    <tr>\n",
       "      <th>max</th>\n",
       "      <td>80995.000000</td>\n",
       "      <td>13541.330000</td>\n",
       "      <td>18287.000000</td>\n",
       "      <td>168469.600000</td>\n",
       "    </tr>\n",
       "  </tbody>\n",
       "</table>\n",
       "</div>"
      ],
      "text/plain": [
       "            Quantity      UnitPrice     CustomerID          Total\n",
       "count  524878.000000  524878.000000  524878.000000  524878.000000\n",
       "mean       10.616600       3.922573   11437.732164      20.275399\n",
       "std       156.280031      36.093028    6799.513627     271.693566\n",
       "min         1.000000       0.001000       0.000000       0.001000\n",
       "25%         1.000000       1.250000       0.000000       3.900000\n",
       "50%         4.000000       2.080000   14350.000000       9.920000\n",
       "75%        11.000000       4.130000   16245.000000      17.700000\n",
       "max     80995.000000   13541.330000   18287.000000  168469.600000"
      ]
     },
     "execution_count": 19,
     "metadata": {},
     "output_type": "execute_result"
    }
   ],
   "source": [
    "df.describe()"
   ]
  },
  {
   "cell_type": "code",
   "execution_count": 20,
   "id": "22d198bd",
   "metadata": {},
   "outputs": [],
   "source": [
    "df[\"CustomerID\"] = df[\"CustomerID\"].astype(int)"
   ]
  },
  {
   "cell_type": "markdown",
   "id": "5c2585f5",
   "metadata": {},
   "source": [
    "Excellent, now we have a cleaned up dataset without missing values and no negative numbers. \n",
    "Let's now export it to work on further."
   ]
  },
  {
   "cell_type": "code",
   "execution_count": 21,
   "id": "7fcb5100",
   "metadata": {},
   "outputs": [],
   "source": [
    "df.to_csv('../data/clean/Online Retail.csv',index=False)"
   ]
  }
 ],
 "metadata": {
  "kernelspec": {
   "display_name": "Python 3 (ipykernel)",
   "language": "python",
   "name": "python3"
  },
  "language_info": {
   "codemirror_mode": {
    "name": "ipython",
    "version": 3
   },
   "file_extension": ".py",
   "mimetype": "text/x-python",
   "name": "python",
   "nbconvert_exporter": "python",
   "pygments_lexer": "ipython3",
   "version": "3.9.12"
  }
 },
 "nbformat": 4,
 "nbformat_minor": 5
}
