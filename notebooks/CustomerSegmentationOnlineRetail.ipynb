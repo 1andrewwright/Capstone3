{
 "cells": [
  {
   "cell_type": "markdown",
   "metadata": {
    "_uuid": "05585d4c152ddadeedce3ddbd1755d49bc2d777c"
   },
   "source": [
    "Online Retail Customer Segmentation Analysis"
   ]
  },
  {
   "cell_type": "markdown",
   "metadata": {
    "_uuid": "975f14bf2655f33b1253c9100954ba7fba2cab7d"
   },
   "source": [
    "Import the necessary libraries"
   ]
  },
  {
   "cell_type": "code",
   "execution_count": 1,
   "metadata": {
    "_cell_guid": "79c7e3d0-c299-4dcb-8224-4455121ee9b0",
    "_uuid": "d629ff2d2480ee46fbb7e2d37f6b5fab8052498a"
   },
   "outputs": [],
   "source": [
    "import numpy as np\n",
    "import pandas as pd\n",
    "import matplotlib.pyplot as plt\n",
    "import math\n",
    "import matplotlib.mlab as mlab\n",
    "import datetime\n",
    "import scipy\n",
    "import scipy.stats as stats\n",
    "import seaborn as sns"
   ]
  },
  {
   "cell_type": "markdown",
   "metadata": {
    "_uuid": "738a3bc4e84027ba469fe8ae2e315f63f53fa5f9"
   },
   "source": [
    "Import the dataset"
   ]
  },
  {
   "cell_type": "code",
   "execution_count": null,
   "metadata": {
    "_uuid": "c3f5bd073ee049f979e7e5fbe6026b72df90c5cd"
   },
   "outputs": [],
   "source": [
    "OR_df=pd.read_excel('../data/external/Online Retail.xlsx')\n",
    "OR_df.head()"
   ]
  },
  {
   "cell_type": "markdown",
   "metadata": {
    "_uuid": "2c0412e30a6207b6b5a4927c11425a0d597a444e"
   },
   "source": [
    "Exploratery data analysis"
   ]
  },
  {
   "cell_type": "code",
   "execution_count": null,
   "metadata": {
    "_kg_hide-input": false,
    "_uuid": "8da3452df7c86631df696559e1e4210e66d5e5f4"
   },
   "outputs": [],
   "source": [
    "OR_df.Country.value_counts().reset_index().head(20)"
   ]
  },
  {
   "cell_type": "markdown",
   "metadata": {
    "_uuid": "fc6bc09f5d4b55ded0ff8f5de738050424d946d4"
   },
   "source": [
    "The unique customers of the retailer having customer ID and their percentage of orders by top 10 orders."
   ]
  },
  {
   "cell_type": "code",
   "execution_count": null,
   "metadata": {
    "_uuid": "5b1c14f531275380c8d38fe739969d6727f36db2"
   },
   "outputs": [],
   "source": [
    "OR_df.CustomerID.unique().shape"
   ]
  },
  {
   "cell_type": "code",
   "execution_count": null,
   "metadata": {
    "_uuid": "3bb9887a59bf847b971835a69132cadfd05c8c80"
   },
   "outputs": [],
   "source": [
    "(OR_df.CustomerID.value_counts()/sum(OR_df.CustomerID.value_counts())*100).head(13).cumsum()"
   ]
  },
  {
   "cell_type": "markdown",
   "metadata": {
    "_uuid": "6229adc9101a6c23ed002d36c29ca384af4131d6"
   },
   "source": [
    "Out of 4373 unique customers only 13 were ordered the 10% of the  total sales of retailer based on\n",
    "cumulative sum."
   ]
  },
  {
   "cell_type": "code",
   "execution_count": null,
   "metadata": {
    "_uuid": "942058c4e278abf5e8ea6b930077b637a9fd8d81"
   },
   "outputs": [],
   "source": [
    "OR_df.StockCode.unique().shape"
   ]
  },
  {
   "cell_type": "code",
   "execution_count": null,
   "metadata": {
    "_uuid": "2972b8834089f10ecad940afa7e85774bd9482e2"
   },
   "outputs": [],
   "source": [
    "OR_df.Description.unique().shape"
   ]
  },
  {
   "cell_type": "markdown",
   "metadata": {
    "_uuid": "ef08fa78f1c643242493de0d2cb3c8e0bcd0ceca"
   },
   "source": [
    "From the above, we observed that there is a mismatch between StockCode and Description and also number of Descriptions\n",
    "more than the Stock code values,which means that we have multiple descriptions for some of the Stockcodes."
   ]
  },
  {
   "cell_type": "code",
   "execution_count": null,
   "metadata": {
    "_uuid": "962f54ac095127a9d96a9fb58c723a853b4e56f9"
   },
   "outputs": [],
   "source": [
    "des_df=OR_df.groupby(['Description','StockCode']).count().reset_index()\n",
    "des_df.StockCode.value_counts()[des_df.StockCode.value_counts()>1].reset_index().head()"
   ]
  },
  {
   "cell_type": "code",
   "execution_count": null,
   "metadata": {
    "_uuid": "dd34ff3917710bb76baf9d6a79c0c8f6665ce327"
   },
   "outputs": [],
   "source": [
    "OR_df.Quantity.describe()"
   ]
  },
  {
   "cell_type": "code",
   "execution_count": null,
   "metadata": {
    "_uuid": "0b3436d2e5f740a1d936997326d9ef6df68f4474"
   },
   "outputs": [],
   "source": [
    "OR_df.UnitPrice.describe()"
   ]
  },
  {
   "cell_type": "markdown",
   "metadata": {
    "_uuid": "d0c3135a8d2a943f4bc5a6106a4cec00ada723fe"
   },
   "source": [
    "The output of the two attributes having negitive values,which means that may have some return transactions in this data."
   ]
  },
  {
   "cell_type": "markdown",
   "metadata": {
    "_uuid": "117f1f40bc4c3403cf709d2864602b3e8a68937a"
   },
   "source": [
    "The RFM (Recency,Frequency,Monetary value) based model of customer value for finding the customer segments.\n"
   ]
  },
  {
   "cell_type": "markdown",
   "metadata": {
    "_uuid": "ebc8b838f5e301edf310212b3cab1c6d05fe3cbd"
   },
   "source": [
    "Data preprocessing"
   ]
  },
  {
   "cell_type": "markdown",
   "metadata": {
    "_uuid": "267b4503d948c030a40ff1d04aca52ea3ee69230"
   },
   "source": [
    "Separate data for one geography"
   ]
  },
  {
   "cell_type": "code",
   "execution_count": null,
   "metadata": {
    "_uuid": "afb4d37814ac784d47c97d529a7fc3152396d90c"
   },
   "outputs": [],
   "source": [
    "OR_df=OR_df[OR_df.Country=='United Kingdom']\n",
    "OR_df.head()"
   ]
  },
  {
   "cell_type": "markdown",
   "metadata": {
    "_uuid": "fddbee9d96b6bc34c9be76a9d3ac6bb2c571adef"
   },
   "source": [
    "Separate attribute based on amount"
   ]
  },
  {
   "cell_type": "code",
   "execution_count": null,
   "metadata": {
    "_uuid": "d9187ce3017c630d669fbb0ab009f49fcf689e01"
   },
   "outputs": [],
   "source": [
    "OR_df['Amount']=OR_df.Quantity*OR_df.UnitPrice\n",
    "OR_df['Amount'].head()"
   ]
  },
  {
   "cell_type": "markdown",
   "metadata": {
    "_uuid": "c906b8ffa52635b8b2bfea75aa3bf187e5965fc3"
   },
   "source": [
    "Remove negative or return transactions"
   ]
  },
  {
   "cell_type": "code",
   "execution_count": null,
   "metadata": {
    "_uuid": "f91ebd7c84ac5c0f36eb77b6e3b7946e164e8f2f"
   },
   "outputs": [],
   "source": [
    "OR_df=OR_df[~(OR_df['Amount']<0)]\n",
    "OR_df.head()"
   ]
  },
  {
   "cell_type": "markdown",
   "metadata": {
    "_uuid": "bdf80a7422de6df707660cb55179c0b3a75778b7"
   },
   "source": [
    "Remove transactions having missing values for the Customer ID field"
   ]
  },
  {
   "cell_type": "code",
   "execution_count": null,
   "metadata": {
    "_uuid": "eef1d4dd1501018337ff18efb231d2b4b636f81b"
   },
   "outputs": [],
   "source": [
    "OR_df=OR_df[~(OR_df.CustomerID.isnull())]\n",
    "print(OR_df.shape)\n",
    "OR_df.head()"
   ]
  },
  {
   "cell_type": "markdown",
   "metadata": {
    "_uuid": "9e9cd1ea54e4cae373479ef9ea5327edaea444c5"
   },
   "source": [
    "Create the RFM model (Recency, Frequency,Monetary value)"
   ]
  },
  {
   "cell_type": "markdown",
   "metadata": {
    "_uuid": "22ef4237cc3b9c4f2a00347731f2ab1579b01023"
   },
   "source": [
    "Recency"
   ]
  },
  {
   "cell_type": "markdown",
   "metadata": {
    "_uuid": "caf662a454cef6830b618e5220bbb83e49ed9dce"
   },
   "source": [
    "To create a Recency feature variable, we need to decide the reference date for analysis and we wil define the reference date as one day before the last transaction."
   ]
  },
  {
   "cell_type": "code",
   "execution_count": null,
   "metadata": {
    "_uuid": "0e1a64351da76abec4e53b62106ad57afff9826e"
   },
   "outputs": [],
   "source": [
    "reference_date=OR_df.InvoiceDate.max()\n",
    "reference_date=reference_date+datetime.timedelta(days=1)#timedelta function returns to total number of seconds\n",
    "print(OR_df.InvoiceDate.max(),OR_df.InvoiceDate.min())\n",
    "reference_date"
   ]
  },
  {
   "cell_type": "markdown",
   "metadata": {
    "_uuid": "956782f6ca6360bd71b319dd5a2bc46be3006646"
   },
   "source": [
    "We will construct a reference variable as number of days before the reference date when a customer last made a purchase."
   ]
  },
  {
   "cell_type": "code",
   "execution_count": null,
   "metadata": {
    "_uuid": "1705c3a4e9dccd2a4160924fde876260142de4eb"
   },
   "outputs": [],
   "source": [
    "OR_df['days_since_last_purchase']=reference_date-OR_df.InvoiceDate\n",
    "OR_df['days_since_last_purchase_num']=OR_df['days_since_last_purchase'].astype('timedelta64[D]')\n",
    "OR_df['days_since_last_purchase_num'].head()                                                                "
   ]
  },
  {
   "cell_type": "markdown",
   "metadata": {
    "_uuid": "b13015d8f88a916333e2378a9132d9d808f5117b"
   },
   "source": [
    "Customer history of last transactions"
   ]
  },
  {
   "cell_type": "code",
   "execution_count": null,
   "metadata": {
    "_uuid": "9a0f4362d987d92c911e84bc1a25593b89c78549"
   },
   "outputs": [],
   "source": [
    "customer_history_df=OR_df.groupby('CustomerID').min().reset_index()[['CustomerID', 'days_since_last_purchase_num']]\n",
    "customer_history_df.rename(columns={'days_since_last_purchase_num':'Recency'}, inplace=True)\n",
    "print(customer_history_df.describe())\n",
    "customer_history_df.head()"
   ]
  },
  {
   "cell_type": "markdown",
   "metadata": {
    "_uuid": "c9cb8b9c2a746fdad3f551a3fd40d2c26bd627cf"
   },
   "source": [
    "Distribution of customer recency"
   ]
  },
  {
   "cell_type": "code",
   "execution_count": null,
   "metadata": {
    "_uuid": "70df0ac026a2e4733a02172361e76632f219a1e9"
   },
   "outputs": [],
   "source": [
    "x=customer_history_df.Recency\n",
    "mu=np.mean(x)\n",
    "sigma=math.sqrt(np.var(x))\n",
    "n,bins,patches=plt.hist(x,1000,facecolor='blue',alpha=0.75)#alpha=transparency parameter\n",
    "# Add a best fit line\n",
    "y=scipy.stats.norm.pdf(bins,mu,sigma)#norm.pdf-probability density function for norm\n",
    "l=plt.plot(bins,y,'r--',lw=2)\n",
    "\n",
    "plt.xlabel('Recency in days')\n",
    "plt.ylabel('Number of transactions')\n",
    "plt.title('Histogram of Sales Recency')\n",
    "plt.grid(True)\n",
    "plt.show()"
   ]
  },
  {
   "cell_type": "markdown",
   "metadata": {
    "_uuid": "3e690ca281a8050496e5a4fb5e69754cc857f001"
   },
   "source": [
    "We have a skewd distribution of sales recency with a much higher frequent number of transactions and a fairly unifirm number of sales less in recent transactions."
   ]
  },
  {
   "cell_type": "markdown",
   "metadata": {
    "_uuid": "e686b6342a0c6959ad29fc447e66b730e7f83220"
   },
   "source": [
    "Frequency and Monetary value"
   ]
  },
  {
   "cell_type": "code",
   "execution_count": null,
   "metadata": {
    "_uuid": "812f6d72ade7db86f02f3b5c22343bd968ea7bf3"
   },
   "outputs": [],
   "source": [
    "customer_monetary_val=OR_df[['CustomerID','Amount']].groupby('CustomerID').sum().reset_index()\n",
    "customer_history_df=customer_history_df.merge(customer_monetary_val,how='outer')\n",
    "customer_history_df.Amount=customer_history_df.Amount+0.001\n",
    "customer_freq=OR_df[['CustomerID','Amount']].groupby('CustomerID').count().reset_index()\n",
    "customer_freq.rename(columns={'Amount':'Frequency'},inplace=True)\n",
    "customer_history_df=customer_history_df.merge(customer_freq,how='outer')\n",
    "\n",
    "customer_history_df=pd.DataFrame(customer_history_df,columns=['CustomerID','Recency','Amount','Frequency'])\n",
    "customer_history_df.head()"
   ]
  },
  {
   "cell_type": "markdown",
   "metadata": {
    "_uuid": "c224ed01f29b01fe57605bb8ac8f9d02f0a44f0b"
   },
   "source": [
    "Data Preprocessing"
   ]
  },
  {
   "cell_type": "code",
   "execution_count": null,
   "metadata": {
    "_uuid": "c9bde68c77ad0382929a63ac9af559f18b35d49b"
   },
   "outputs": [],
   "source": [
    "from sklearn import preprocessing\n",
    "customer_history_df['Recency_log'] = customer_history_df['Recency'].apply(math.log)\n",
    "customer_history_df['Frequency_log'] = customer_history_df['Frequency'].apply(math.log)\n",
    "customer_history_df['Amount_log'] = customer_history_df['Amount'].apply(math.log)\n",
    "feature_vector=['Recency_log','Frequency_log','Amount_log']\n",
    "X=customer_history_df[feature_vector].values\n",
    "scaler=preprocessing.StandardScaler()\n",
    "X_scaled=scaler.fit_transform(X)"
   ]
  },
  {
   "cell_type": "markdown",
   "metadata": {
    "_uuid": "eecb28069a7c1019311e5d11a2abe88f891282bb"
   },
   "source": [
    "Visualizing Recency and Frequency vs Monetary Value (Scaled)"
   ]
  },
  {
   "cell_type": "code",
   "execution_count": null,
   "metadata": {
    "_uuid": "420ab44b17d4b397b1462003136983709452732d"
   },
   "outputs": [],
   "source": [
    "plt.scatter(customer_history_df.Recency_log,customer_history_df.Amount_log,alpha=0.5)\n",
    "\n",
    "plt.scatter(customer_history_df.Frequency_log,customer_history_df.Amount_log,alpha=0.5)"
   ]
  },
  {
   "cell_type": "markdown",
   "metadata": {
    "_uuid": "72a34bc2c6847abe34df29fd4dcc3bb269f8a29f"
   },
   "source": [
    "Visualizing Monetary Value distribution"
   ]
  },
  {
   "cell_type": "code",
   "execution_count": null,
   "metadata": {
    "_uuid": "eada2dc0a6f9aeb3bf846d577d9be7bc86182a0a"
   },
   "outputs": [],
   "source": [
    "x=customer_history_df.Amount_log\n",
    "n,bins,patches=plt.hist(x,1000,facecolor='b',alpha=0.8)\n",
    "plt.xlabel('Log of Sales Amount')\n",
    "plt.ylabel('Probability')\n",
    "plt.title('Histogram of log transformed monetary value ')\n",
    "plt.grid(True)\n",
    "plt.show()"
   ]
  },
  {
   "cell_type": "markdown",
   "metadata": {
    "_uuid": "2bb821b2a440b637c9606c9b053bf3af469209cd"
   },
   "source": [
    "Visualization of RFM model on 3D plot"
   ]
  },
  {
   "cell_type": "code",
   "execution_count": null,
   "metadata": {
    "_uuid": "409196f6c55c9b7bf2f3926c5934c33b34f35282"
   },
   "outputs": [],
   "source": [
    "from mpl_toolkits.mplot3d import Axes3D\n",
    "fig=plt.figure(figsize=(10,8))\n",
    "ax=fig.add_subplot(111,projection='3d')\n",
    "xs=customer_history_df.Recency_log\n",
    "ys=customer_history_df.Frequency_log\n",
    "zs=customer_history_df.Amount_log\n",
    "ax.scatter(xs,ys,zs,s=5)\n",
    "ax.set_xlabel('Recency')\n",
    "ax.set_ylabel('Frequency')\n",
    "ax.set_zlabel('Monetary value')\n",
    "plt.show()"
   ]
  },
  {
   "cell_type": "markdown",
   "metadata": {
    "_uuid": "bae099fa9710e5dfb90f36d24f8445ca29585a8c"
   },
   "source": [
    "We can observed that from 3D plot, people who buy with a higher frequency and more Recency tends to spend more\n",
    "based on the increasing trend in monetray value corresponding inceasing and decreasing trend on frequency and recency, respectively."
   ]
  },
  {
   "cell_type": "markdown",
   "metadata": {
    "_uuid": "a6c8eba8a002d22e5da76bc565ea86cc957a333c"
   },
   "source": [
    "Clustering for Customer segements by using KMeans Custering algorithm."
   ]
  },
  {
   "cell_type": "markdown",
   "metadata": {
    "_uuid": "dff558047ee9adb1c0142cbea16554d83850bee8"
   },
   "source": [
    "Customer segmentation fro Recency vs Monetary Value"
   ]
  },
  {
   "cell_type": "code",
   "execution_count": null,
   "metadata": {
    "_uuid": "5b350817d494bceda58adcdf484b24186a241d93"
   },
   "outputs": [],
   "source": [
    "from sklearn.cluster import KMeans\n",
    "import matplotlib.cm as cm\n",
    "from sklearn.metrics import silhouette_samples,silhouette_score\n",
    "X=X_scaled\n",
    "cluster_centers=dict()\n",
    "for n_clusters in range(3,6,2):\n",
    "    fig,(ax1,ax2)=plt.subplots(1,2)\n",
    "    fig.set_size_inches(18,7)\n",
    "    ax1.set_xlim([-0.1,1])\n",
    "    ax1.set_ylim([0,len(X)+(n_clusters+1)*10])\n",
    "    \n",
    "    clusterer=KMeans(n_clusters=n_clusters,random_state=10)\n",
    "    cluster_labels=clusterer.fit_predict(X)\n",
    "    \n",
    "    silhouette_avg=silhouette_score(X,cluster_labels)\n",
    "    cluster_centers.update({n_clusters:{'cluster_centre':clusterer.cluster_centers_,\n",
    "                                       'silhouette_score':silhouette_avg,\n",
    "                                       'labels':cluster_labels}\n",
    "                           })\n",
    "    \n",
    "    sample_silhouette_values=silhouette_samples(X,cluster_labels)\n",
    "    y_lower=10\n",
    "    for i in range(n_clusters):\n",
    "        ith_cluster_silhouette_values=sample_silhouette_values[cluster_labels==i]\n",
    "        ith_cluster_silhouette_values.sort()\n",
    "        size_cluster_i=ith_cluster_silhouette_values.shape[0]\n",
    "        y_upper=y_lower+size_cluster_i\n",
    "    \n",
    "        cmap = cm.get_cmap(\"Spectral\")\n",
    "        color=cmap(float(i)/n_clusters)\n",
    "        ax1.fill_betweenx(np.arange(y_lower,y_upper),0,\n",
    "                ith_cluster_silhouette_values,facecolor=color,edgecolor=color,alpha=0.75)\n",
    "        ax1.text(-0.05,y_lower+0.5*size_cluster_i,str(i))\n",
    "        y_lower=y_upper+10 # 10 for 0 samples\n",
    "        \n",
    "    ax1.set_title('The silhouette plot for the various clusters')\n",
    "    ax1.set_xlabel('The silhouette coefficient values')\n",
    "    ax1.set_ylabel('Cluster_label')\n",
    "    ax1.axvline(x=silhouette_avg,color='red',linestyle='--')\n",
    "    ax1.set_yticks([])\n",
    "    ax1.set_xticks([-0.1,0,0.2,0.4,0.6,0.8,1])\n",
    "    \n",
    "    colors=cmap(cluster_labels.astype(float)/n_clusters)\n",
    "    feature1=0\n",
    "    feature2=2\n",
    "    ax2.scatter(X[:,feature1],X[:,feature2],marker='.',s=30,\n",
    "                    lw=0,alpha=0.7,edgecolor='k',c=colors)\n",
    "    centers=clusterer.cluster_centers_\n",
    "    ax2.scatter(centers[:,feature1],centers[:,feature2],marker=\"o\",\n",
    "                   alpha=1,c='white',s=200,edgecolor='k')\n",
    "    for i,c in enumerate(centers):\n",
    "        ax2.scatter(c[feature1],c[feature2],marker='$%d$'%i,alpha=1,\n",
    "                       edgecolor='k',s=50)\n",
    "    ax2.set_title('The visulization of clustered data')\n",
    "    ax2.set_xlabel('Feature space for the 2nd feature(Monetary Value)')\n",
    "    ax2.set_ylabel('Feature space for the 1st feature(Recency)')\n",
    "    plt.suptitle('Silhouetee analysis for KMeans clustering on sample data' 'with n_clusters=%d'\n",
    "                         % n_clusters,fontsize=14,fontweight='bold')\n",
    "    plt.show()"
   ]
  },
  {
   "cell_type": "markdown",
   "metadata": {
    "_uuid": "d98bd543401c64857c23c94ac9c72e408a1c1583"
   },
   "source": [
    "Cluster Segmentation for Frequency vs Monetary value"
   ]
  },
  {
   "cell_type": "code",
   "execution_count": null,
   "metadata": {
    "_uuid": "7833c62f0c4792e937b5ec876e6ee93d94f38cf7"
   },
   "outputs": [],
   "source": [
    "from sklearn.cluster import KMeans\n",
    "from sklearn.metrics import silhouette_samples, silhouette_score\n",
    "import matplotlib.cm as cm\n",
    "\n",
    "X = X_scaled\n",
    "\n",
    "cluster_centers = dict()\n",
    "\n",
    "for n_clusters in range(3,6,2):\n",
    "    fig, (ax1, ax2) = plt.subplots(1, 2)\n",
    "    #ax2 = plt.subplot(111, projection='3d')\n",
    "    fig.set_size_inches(18, 7)\n",
    "    ax1.set_xlim([-0.1, 1])\n",
    "    ax1.set_ylim([0, len(X) + (n_clusters + 1) * 10])\n",
    "\n",
    "    clusterer = KMeans(n_clusters=n_clusters, random_state=10)\n",
    "    cluster_labels = clusterer.fit_predict(X)\n",
    "\n",
    "    silhouette_avg = silhouette_score(X, cluster_labels)\n",
    "    cluster_centers.update({n_clusters :{\n",
    "                                        'cluster_center':clusterer.cluster_centers_,\n",
    "                                        'silhouette_score':silhouette_avg,\n",
    "                                        'labels':cluster_labels}\n",
    "                           })\n",
    "\n",
    "    sample_silhouette_values = silhouette_samples(X, cluster_labels)\n",
    "    y_lower = 10\n",
    "    for i in range(n_clusters):\n",
    "        ith_cluster_silhouette_values = \\\n",
    "            sample_silhouette_values[cluster_labels == i]\n",
    "\n",
    "        ith_cluster_silhouette_values.sort()\n",
    "\n",
    "        size_cluster_i = ith_cluster_silhouette_values.shape[0]\n",
    "        y_upper = y_lower + size_cluster_i\n",
    "\n",
    "        cmap=cm.get_cmap('Spectral')\n",
    "        color = cmap(float(i) / n_clusters)\n",
    "        ax1.fill_betweenx(np.arange(y_lower, y_upper),\n",
    "                          0, ith_cluster_silhouette_values,\n",
    "                          facecolor=color, edgecolor=color, alpha=0.7)\n",
    "\n",
    "        ax1.text(-0.05, y_lower + 0.5 * size_cluster_i, str(i))\n",
    "        y_lower = y_upper + 10  # 10 for the 0 samples\n",
    "\n",
    "    ax1.set_title(\"The silhouette plot for the various clusters.\")\n",
    "    ax1.set_xlabel(\"The silhouette coefficient values\")\n",
    "    ax1.set_ylabel(\"Cluster label\")\n",
    "    ax1.axvline(x=silhouette_avg, color=\"red\", linestyle=\"--\")\n",
    "    ax1.set_yticks([])\n",
    "    ax1.set_xticks([-0.1, 0, 0.2, 0.4, 0.6, 0.8, 1])\n",
    "    \n",
    "    colors = cmap(cluster_labels.astype(float) / n_clusters)\n",
    "    feature1 = 1\n",
    "    feature2 = 2\n",
    "    ax2.scatter(X[:, feature1], X[:, feature2], marker='.', s=30, lw=0, alpha=0.7,\n",
    "                c=colors, edgecolor='k')\n",
    "    \n",
    "    centers = clusterer.cluster_centers_\n",
    "    ax2.scatter(centers[:, feature1], centers[:, feature2], marker='o',\n",
    "                c=\"white\", alpha=1, s=200, edgecolor='k')\n",
    "    for i, c in enumerate(centers):\n",
    "        ax2.scatter(c[feature1], c[feature2], marker='$%d$' % i, alpha=1,\n",
    "                    s=50, edgecolor='k')\n",
    "    ax2.set_title(\"The visualization of the clustered data.\")\n",
    "    ax2.set_xlabel(\"Feature space for the 2nd feature (Monetary Value)\")\n",
    "    ax2.set_ylabel(\"Feature space for the 1st feature (Frequency)\")\n",
    "    plt.suptitle((\"Silhouette analysis for KMeans clustering on sample data \"\n",
    "                  \"with n_clusters = %d\" % n_clusters),\n",
    "                 fontsize=14, fontweight='bold')\n",
    "    plt.show()"
   ]
  },
  {
   "cell_type": "markdown",
   "metadata": {
    "_uuid": "ed60ccb61c135dc67c1d419b6dfdc62db7de57fd"
   },
   "source": [
    "Cluster analysis"
   ]
  },
  {
   "cell_type": "code",
   "execution_count": null,
   "metadata": {
    "_uuid": "bad326ffc5bec95e215c01ed05f0240d149d0b4c"
   },
   "outputs": [],
   "source": [
    "for i in range(3,6,2):\n",
    "    print('for {} number of clusters'.format(i))\n",
    "    cent_transformed=scaler.inverse_transform(cluster_centers[i]['cluster_center'])\n",
    "    print(pd.DataFrame(np.exp(cent_transformed),columns=feature_vector))\n",
    "    print('Silhouette score for cluster {} is {}'.format(i,cluster_centers[i]['silhouette_score']))\n",
    "    "
   ]
  },
  {
   "cell_type": "markdown",
   "metadata": {
    "_uuid": "4ec744ba1c75990da29b3ca97aee8493813b1d5b"
   },
   "source": [
    "Based on the Silhouette score matrix cluster 5 segments is less optimal than to the cluster 3 segments.\n",
    "But,along with silhouette score we should think about the business aspects while deciding number of clusters.\n"
   ]
  },
  {
   "cell_type": "markdown",
   "metadata": {
    "_uuid": "75ad8ba7af38dfdcc1056423a45f7de2ba555c7a"
   },
   "source": [
    "Assign cluster labels"
   ]
  },
  {
   "cell_type": "code",
   "execution_count": null,
   "metadata": {
    "_uuid": "0ea7b654266b39ce4f88e6834aaa4493b36fa198"
   },
   "outputs": [],
   "source": [
    "labels=cluster_centers[5]['labels']\n",
    "customer_history_df['num_cluster5_labels']=labels\n",
    "labels=cluster_centers[3]['labels']\n",
    "customer_history_df['num_cluster3_labels']=labels\n",
    "\n",
    "customer_history_df.head()"
   ]
  },
  {
   "cell_type": "markdown",
   "metadata": {
    "_uuid": "20b9846cdb243c07ff258a4d0eafe131cd71befd"
   },
   "source": [
    "Visualize segments of Recency having 5 number of clusters"
   ]
  },
  {
   "cell_type": "code",
   "execution_count": null,
   "metadata": {
    "_uuid": "34762e9f25099a6b6c2e243cf752e5615f826c47"
   },
   "outputs": [],
   "source": [
    "import plotly as py\n",
    "import plotly.graph_objs as go\n",
    "py.offline.init_notebook_mode()\n",
    "\n",
    "x_data=['Cluster 1','Cluster 2','Cluster 3','Cluster 4','Cluster 5']\n",
    "cutoff_quantile=100\n",
    "field_to_plot='Recency'\n",
    "y0 = customer_history_df[customer_history_df['num_cluster5_labels']==0][field_to_plot].values\n",
    "y0 = y0[y0<np.percentile(y0, cutoff_quantile)]\n",
    "y1=customer_history_df[customer_history_df['num_cluster5_labels']==1][field_to_plot].values\n",
    "y1=y1[y1<np.percentile(y1,cutoff_quantile)]\n",
    "y2 = customer_history_df[customer_history_df['num_cluster5_labels']==2][field_to_plot].values\n",
    "y2 = y2[y2<np.percentile(y2, cutoff_quantile)]\n",
    "y3 = customer_history_df[customer_history_df['num_cluster5_labels']==3][field_to_plot].values\n",
    "y3 = y3[y3<np.percentile(y3, cutoff_quantile)]\n",
    "y4 = customer_history_df[customer_history_df['num_cluster5_labels']==4][field_to_plot].values\n",
    "y4 = y4[y4<np.percentile(y4, cutoff_quantile)]\n",
    "y_data=[y0,y1,y2,y3,y4]\n",
    "\n",
    "colors = ['rgba(93, 164, 214, 0.5)', 'rgba(255, 144, 14, 0.5)', 'rgba(44, 160, 101, 0.5)', 'rgba(255, 65, 54, 0.5)',\n",
    "          'rgba(207, 114, 255, 0.5)', 'rgba(127, 96, 0, 0.5)']\n",
    "traces=[]\n",
    "\n",
    "for xd,yd,cls in zip(x_data,y_data,colors):\n",
    "    traces.append(go.Box(y=yd,\n",
    "                         name=xd,\n",
    "                         boxpoints=False,\n",
    "                         jitter=0.5,\n",
    "                         whiskerwidth=0.2,\n",
    "                         fillcolor=cls,\n",
    "                         marker=dict(size=2,),\n",
    "                         line=dict(width=1),\n",
    "                        ))\n",
    "layout=go.Layout(\n",
    "title='Difference in sales {} from cluster to cluster'.format(field_to_plot),\n",
    "yaxis=dict(autorange=True,\n",
    "           showgrid=True,\n",
    "           zeroline=True,\n",
    "           dtick=50,\n",
    "           gridcolor='rgb(255, 255, 255)',\n",
    "           gridwidth=0.1,\n",
    "           zerolinecolor='rgb(255,255,255)',\n",
    "           zerolinewidth=2,),\n",
    "margin=dict(\n",
    "    l=40,\n",
    "    r=30,\n",
    "    b=80,\n",
    "    t=100,\n",
    "),\n",
    "paper_bgcolor='rgb(243, 243, 243)',\n",
    "plot_bgcolor='rgb(243, 243, 243)',\n",
    "showlegend=False\n",
    ")\n",
    "fig=go.Figure(data=traces,layout=layout)\n",
    "py.offline.iplot(fig)\n"
   ]
  },
  {
   "cell_type": "markdown",
   "metadata": {
    "_uuid": "6513c1cedff0669f9ddfbc6cc18bdd3fbf31b093"
   },
   "source": [
    "We can see that clusters 3 and 4 have a higer avearge sales recency,thus they were being the highest spenders."
   ]
  },
  {
   "cell_type": "markdown",
   "metadata": {
    "_uuid": "6a2155a029072730396c1ed21a3cd1fda77bb23d"
   },
   "source": [
    "Visualize segments of Frequency having 5 number of clusters"
   ]
  },
  {
   "cell_type": "code",
   "execution_count": null,
   "metadata": {
    "_uuid": "d00fafb68fc1eb6d80c14493df5da45672772599"
   },
   "outputs": [],
   "source": [
    "import plotly as py\n",
    "import plotly.graph_objs as go\n",
    "py.offline.init_notebook_mode()\n",
    "\n",
    "x_data = ['Cluster 1','Cluster 2','Cluster 3','Cluster 4', 'Cluster 5']\n",
    "cutoff_quantile = 90\n",
    "field_to_plot = 'Frequency'\n",
    "\n",
    "y0 = customer_history_df[customer_history_df['num_cluster5_labels']==0][field_to_plot].values\n",
    "y0 = y0[y0<np.percentile(y0, cutoff_quantile)]\n",
    "y1 = customer_history_df[customer_history_df['num_cluster5_labels']==1][field_to_plot].values\n",
    "y1 = y1[y1<np.percentile(y1, cutoff_quantile)]\n",
    "y2 = customer_history_df[customer_history_df['num_cluster5_labels']==2][field_to_plot].values\n",
    "y2 = y2[y2<np.percentile(y2, cutoff_quantile)]\n",
    "y3 = customer_history_df[customer_history_df['num_cluster5_labels']==3][field_to_plot].values\n",
    "y3 = y3[y3<np.percentile(y3, cutoff_quantile)]\n",
    "y4 = customer_history_df[customer_history_df['num_cluster5_labels']==4][field_to_plot].values\n",
    "y4 = y4[y4<np.percentile(y4, cutoff_quantile)]\n",
    "y_data = [y0,y1,y2,y3,y4]\n",
    "\n",
    "colors = ['rgba(93, 164, 214, 0.5)', 'rgba(255, 144, 14, 0.5)', 'rgba(44, 160, 101, 0.5)', 'rgba(255, 65, 54, 0.5)', 'rgba(207, 114, 255, 0.5)', 'rgba(127, 96, 0, 0.5)']\n",
    "traces = []\n",
    "\n",
    "for xd, yd, cls in zip(x_data, y_data, colors):\n",
    "        traces.append(go.Box(\n",
    "            y=yd,\n",
    "            name=xd,\n",
    "            boxpoints=False,\n",
    "            jitter=0.5,\n",
    "            whiskerwidth=0.2,\n",
    "            fillcolor=cls,\n",
    "            marker=dict(\n",
    "                size=2,\n",
    "            ),\n",
    "            line=dict(width=1),\n",
    "        ))\n",
    "\n",
    "layout = go.Layout(\n",
    "    title='Difference in sales {} from cluster to cluster'.format(field_to_plot),\n",
    "    yaxis=dict(\n",
    "        autorange=True,\n",
    "        showgrid=True,\n",
    "        zeroline=True,\n",
    "        dtick=50,\n",
    "        gridcolor='black',\n",
    "        gridwidth=0.1,\n",
    "        zerolinecolor='rgb(255, 255, 255)',\n",
    "        zerolinewidth=2,\n",
    "    ),\n",
    "    margin=dict(\n",
    "        l=40,\n",
    "        r=30,\n",
    "        b=80,\n",
    "        t=100,\n",
    "    ),\n",
    "    paper_bgcolor='white',\n",
    "    plot_bgcolor='white',\n",
    "    showlegend=False\n",
    ")\n",
    "\n",
    "fig = go.Figure(data=traces, layout=layout)\n",
    "py.offline.iplot(fig)"
   ]
  },
  {
   "cell_type": "markdown",
   "metadata": {
    "_uuid": "498a686f60b0009693671a762e31e9c247043ada"
   },
   "source": [
    "We can observed that clusters 1 and 2 have a higher sales frequency then to the other clusters."
   ]
  },
  {
   "cell_type": "markdown",
   "metadata": {
    "_uuid": "4b3da607e541442dedacceb85b219357eb17eaa5"
   },
   "source": [
    "Visualize segments of Amount having 5 number of clusters"
   ]
  },
  {
   "cell_type": "code",
   "execution_count": null,
   "metadata": {
    "_uuid": "08d863144e2104d477d1ecca9bf7dec1b4ba0617"
   },
   "outputs": [],
   "source": [
    "x_data = ['Cluster 1','Cluster 2','Cluster 3','Cluster 4', 'Cluster 5']\n",
    "cutoff_quantile = 80\n",
    "field_to_plot = 'Amount'\n",
    "y0 = customer_history_df[customer_history_df['num_cluster5_labels']==0][field_to_plot].values\n",
    "y0 = y0[y0<np.percentile(y0, cutoff_quantile)]\n",
    "y1 = customer_history_df[customer_history_df['num_cluster5_labels']==1][field_to_plot].values\n",
    "y1 = y1[y1<np.percentile(y1, cutoff_quantile)]\n",
    "y2 = customer_history_df[customer_history_df['num_cluster5_labels']==2][field_to_plot].values\n",
    "y2 = y2[y2<np.percentile(y2, cutoff_quantile)]\n",
    "y3 = customer_history_df[customer_history_df['num_cluster5_labels']==3][field_to_plot].values\n",
    "y3 = y3[y3<np.percentile(y3, cutoff_quantile)]\n",
    "y4 = customer_history_df[customer_history_df['num_cluster5_labels']==4][field_to_plot].values\n",
    "y4 = y4[y4<np.percentile(y4, cutoff_quantile)]\n",
    "y_data = [y0,y1,y2,y3,y4]\n",
    "\n",
    "colors = ['rgba(93, 164, 214, 0.5)', 'rgba(255, 144, 14, 0.5)', 'rgba(44, 160, 101, 0.5)', 'rgba(255, 65, 54, 0.5)', 'rgba(207, 114, 255, 0.5)', 'rgba(127, 96, 0, 0.5)']\n",
    "traces = []\n",
    "\n",
    "for xd, yd, cls in zip(x_data, y_data, colors):\n",
    "        traces.append(go.Box(\n",
    "            y=yd,\n",
    "            name=xd,\n",
    "            boxpoints=False,\n",
    "            jitter=0.5,\n",
    "            whiskerwidth=0.2,\n",
    "            fillcolor=cls,\n",
    "            marker=dict(\n",
    "                size=2,\n",
    "            ),\n",
    "            line=dict(width=1),\n",
    "        ))\n",
    "\n",
    "layout = go.Layout(\n",
    "    title='Difference in sales {} from cluster to cluster'.format(field_to_plot),\n",
    "    yaxis=dict(\n",
    "        autorange=True,\n",
    "        showgrid=True,\n",
    "        zeroline=True,\n",
    "        dtick=1000,\n",
    "        gridcolor='black',\n",
    "        gridwidth=0.1,\n",
    "        zerolinecolor='rgb(255, 255, 255)',\n",
    "        zerolinewidth=2,\n",
    "    ),\n",
    "    margin=dict(\n",
    "        l=40,\n",
    "        r=30,\n",
    "        b=80,\n",
    "        t=100,\n",
    "    ),\n",
    "    paper_bgcolor='white',\n",
    "    plot_bgcolor='white',\n",
    "    showlegend=False\n",
    ")\n",
    "\n",
    "fig = go.Figure(data=traces, layout=layout)\n",
    "py.offline.iplot(fig)"
   ]
  },
  {
   "cell_type": "markdown",
   "metadata": {
    "_uuid": "92214066bf5255f798555631cd17ba776c6635d3"
   },
   "source": [
    "We can obserevd that clusters 1 and 2 have a highest sales amount then to the other clusters."
   ]
  },
  {
   "cell_type": "markdown",
   "metadata": {
    "_uuid": "60e8db8534e913f70780be73e572b8c5f1f2d2c4"
   },
   "source": [
    "Visualize segments of Recency having 3 number of clusters"
   ]
  },
  {
   "cell_type": "code",
   "execution_count": null,
   "metadata": {
    "_uuid": "b1d0c01cab3420662a28c9c76873429591dce626"
   },
   "outputs": [],
   "source": [
    "x_data = ['Cluster 1','Cluster 2','Cluster 3']\n",
    "cutoff_quantile = 100\n",
    "field_to_plot = 'Recency'\n",
    "y0 = customer_history_df[customer_history_df['num_cluster3_labels']==0][field_to_plot].values\n",
    "y0 = y0[y0<np.percentile(y0, cutoff_quantile)]\n",
    "y1 = customer_history_df[customer_history_df['num_cluster3_labels']==1][field_to_plot].values\n",
    "y1 = y1[y1<np.percentile(y1, cutoff_quantile)]\n",
    "y2 = customer_history_df[customer_history_df['num_cluster3_labels']==2][field_to_plot].values\n",
    "y2 = y2[y2<np.percentile(y2, cutoff_quantile)]\n",
    "\n",
    "y_data = [y0,y1,y2]\n",
    "\n",
    "colors = ['rgba(93, 164, 214, 0.5)', 'rgba(255, 144, 14, 0.5)',\n",
    "          'rgba(44, 160, 101, 0.5)', 'rgba(255, 65, 54, 0.5)', 'rgba(207, 114, 255, 0.5)', 'rgba(127, 96, 0, 0.5)']\n",
    "traces = []\n",
    "\n",
    "for xd, yd, cls in zip(x_data, y_data, colors):\n",
    "        traces.append(go.Box(\n",
    "            y=yd,\n",
    "            name=xd,\n",
    "            boxpoints=False,\n",
    "            jitter=0.5,\n",
    "            whiskerwidth=0.2,\n",
    "            fillcolor=cls,\n",
    "            marker=dict(\n",
    "                size=2,\n",
    "            ),\n",
    "            line=dict(width=1),\n",
    "        ))\n",
    "\n",
    "layout = go.Layout(\n",
    "    title='Difference in sales {} from cluster to cluster'.format(field_to_plot),\n",
    "    yaxis=dict(\n",
    "        autorange=True,\n",
    "        showgrid=True,\n",
    "        zeroline=True,\n",
    "        dtick=50,\n",
    "        gridcolor='black',\n",
    "        gridwidth=0.1,\n",
    "        zerolinecolor='rgb(255, 255, 255)',\n",
    "        zerolinewidth=2,\n",
    "    ),\n",
    "    margin=dict(\n",
    "        l=40,\n",
    "        r=30,\n",
    "        b=80,\n",
    "        t=100,\n",
    "    ),\n",
    "    plot_bgcolor='white',\n",
    "    showlegend=False\n",
    ")\n",
    "\n",
    "fig = go.Figure(data=traces, layout=layout)\n",
    "py.offline.iplot(fig)"
   ]
  },
  {
   "cell_type": "markdown",
   "metadata": {
    "_uuid": "ecb3192d4ba886f8aad2d80010284ee22b806b37"
   },
   "source": [
    "We can observed that cluster 2 have a highest sales recency then to the other clusters."
   ]
  },
  {
   "cell_type": "markdown",
   "metadata": {
    "_uuid": "3077b56390fe2f5fd68463ea4a27b92be2a8eb83"
   },
   "source": [
    "Visualize segaments of Frequency having 3 number of clusters."
   ]
  },
  {
   "cell_type": "code",
   "execution_count": null,
   "metadata": {
    "_uuid": "bb080c7b318bd29d0372e29a8b2d8e7352d09cb0"
   },
   "outputs": [],
   "source": [
    "x_data = ['Cluster 1','Cluster 2','Cluster 3']\n",
    "cutoff_quantile = 90\n",
    "field_to_plot = 'Frequency'\n",
    "y0 = customer_history_df[customer_history_df['num_cluster3_labels']==0][field_to_plot].values\n",
    "y0 = y0[y0<np.percentile(y0, cutoff_quantile)]\n",
    "y1 = customer_history_df[customer_history_df['num_cluster3_labels']==1][field_to_plot].values\n",
    "y1 = y1[y1<np.percentile(y1, cutoff_quantile)]\n",
    "y2 = customer_history_df[customer_history_df['num_cluster3_labels']==2][field_to_plot].values\n",
    "y2 = y2[y2<np.percentile(y2, cutoff_quantile)]\n",
    "\n",
    "y_data = [y0,y1,y2]\n",
    "\n",
    "colors = ['rgba(93, 164, 214, 0.5)', 'rgba(255, 144, 14, 0.5)', 'rgba(44, 160, 101, 0.5)', 'rgba(255, 65, 54, 0.5)', 'rgba(207, 114, 255, 0.5)', 'rgba(127, 96, 0, 0.5)']\n",
    "traces = []\n",
    "\n",
    "for xd, yd, cls in zip(x_data, y_data, colors):\n",
    "        traces.append(go.Box(\n",
    "            y=yd,\n",
    "            name=xd,\n",
    "            boxpoints=False,\n",
    "            jitter=0.5,\n",
    "            whiskerwidth=0.2,\n",
    "            fillcolor=cls,\n",
    "            marker=dict(\n",
    "                size=2,\n",
    "            ),\n",
    "            line=dict(width=1),\n",
    "        ))\n",
    "\n",
    "layout = go.Layout(\n",
    "    title='Difference in sales {} from cluster to cluster'.format(field_to_plot),\n",
    "    yaxis=dict(\n",
    "        autorange=True,\n",
    "        showgrid=True,\n",
    "        zeroline=True,\n",
    "        dtick=50,\n",
    "        gridcolor='black',\n",
    "        gridwidth=0.1,\n",
    "        zerolinecolor='rgb(255, 255, 255)',\n",
    "        zerolinewidth=2,\n",
    "    ),\n",
    "    margin=dict(\n",
    "        l=40,\n",
    "        r=30,\n",
    "        b=80,\n",
    "        t=100,\n",
    "    ),\n",
    "    plot_bgcolor='white',\n",
    "    showlegend=False\n",
    ")\n",
    "\n",
    "fig = go.Figure(data=traces, layout=layout)\n",
    "py.offline.iplot(fig)\n"
   ]
  },
  {
   "cell_type": "markdown",
   "metadata": {
    "_uuid": "0e23f76331a596acbb178c2286867f39e7ff2766"
   },
   "source": [
    "We can obeserved that cluster 3 have a highest sales frequency then to other clusters."
   ]
  },
  {
   "cell_type": "markdown",
   "metadata": {
    "_uuid": "3cf280481c4e0f5edc49266bd24999d79c12dab6"
   },
   "source": [
    "Visualize segments of Amount having 3 number of clusters"
   ]
  },
  {
   "cell_type": "code",
   "execution_count": null,
   "metadata": {
    "_uuid": "8594bcc7d1e084581bfd4cb8351af1d6e1ca65c3"
   },
   "outputs": [],
   "source": [
    "x_data = ['Cluster 1','Cluster 2','Cluster 3']\n",
    "cutoff_quantile = 80\n",
    "field_to_plot = 'Amount'\n",
    "y0 = customer_history_df[customer_history_df['num_cluster3_labels']==0][field_to_plot].values\n",
    "y0 = y0[y0<np.percentile(y0, cutoff_quantile)]\n",
    "y1 = customer_history_df[customer_history_df['num_cluster3_labels']==1][field_to_plot].values\n",
    "y1 = y1[y1<np.percentile(y1, cutoff_quantile)]\n",
    "y2 = customer_history_df[customer_history_df['num_cluster3_labels']==2][field_to_plot].values\n",
    "y2 = y2[y2<np.percentile(y2, cutoff_quantile)]\n",
    "\n",
    "y_data = [y0,y1,y2]\n",
    "\n",
    "colors = ['rgba(93, 164, 214, 0.5)', 'rgba(255, 144, 14, 0.5)', 'rgba(44, 160, 101, 0.5)', 'rgba(255, 65, 54, 0.5)', 'rgba(207, 114, 255, 0.5)', 'rgba(127, 96, 0, 0.5)']\n",
    "traces = []\n",
    "\n",
    "for xd, yd, cls in zip(x_data, y_data, colors):\n",
    "        traces.append(go.Box(\n",
    "            y=yd,\n",
    "            name=xd,\n",
    "            boxpoints=False,\n",
    "            jitter=0.5,\n",
    "            whiskerwidth=0.2,\n",
    "            fillcolor=cls,\n",
    "            marker=dict(\n",
    "                size=2,\n",
    "            ),\n",
    "            line=dict(width=1),\n",
    "        ))\n",
    "\n",
    "layout = go.Layout(\n",
    "    title='Difference in sales {} from cluster to cluster'.format(field_to_plot),\n",
    "    yaxis=dict(\n",
    "        autorange=True,\n",
    "        showgrid=True,\n",
    "        zeroline=True,\n",
    "        dtick=1000,\n",
    "        gridcolor='black',\n",
    "        gridwidth=0.1,\n",
    "        zerolinecolor='rgb(255, 255, 255)',\n",
    "        zerolinewidth=2,\n",
    "    ),\n",
    "    margin=dict(\n",
    "        l=40,\n",
    "        r=30,\n",
    "        b=80,\n",
    "        t=100,\n",
    "    ),\n",
    "    plot_bgcolor='white',\n",
    "    showlegend=False\n",
    ")\n",
    "\n",
    "fig = go.Figure(data=traces, layout=layout)\n",
    "py.offline.iplot(fig)\n"
   ]
  },
  {
   "cell_type": "markdown",
   "metadata": {
    "_uuid": "74051a36e128b9071e427636557d0561ea30477a"
   },
   "source": [
    "We can observed that cluster 3 have a highest sales amount then to other clusters."
   ]
  }
 ],
 "metadata": {
  "kernelspec": {
   "display_name": "Python 3 (ipykernel)",
   "language": "python",
   "name": "python3"
  },
  "language_info": {
   "codemirror_mode": {
    "name": "ipython",
    "version": 3
   },
   "file_extension": ".py",
   "mimetype": "text/x-python",
   "name": "python",
   "nbconvert_exporter": "python",
   "pygments_lexer": "ipython3",
   "version": "3.9.12"
  }
 },
 "nbformat": 4,
 "nbformat_minor": 1
}
